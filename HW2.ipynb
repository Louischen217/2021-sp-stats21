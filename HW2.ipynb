{
 "cells": [
  {
   "cell_type": "markdown",
   "metadata": {},
   "source": [
    "# Stats 21 - HW 2"
   ]
  },
  {
   "cell_type": "markdown",
   "metadata": {},
   "source": [
    "## Ailong Chen"
   ]
  },
  {
   "cell_type": "markdown",
   "metadata": {},
   "source": [
    "The questions have been entered into this document. You will modify the document by entering your code.\n",
    "\n",
    "Make sure you run the cell so the requested output is visible. Download the finished document as a PDF file. If you are unable to convert it to a PDF, you can download it as an HTML file and then print to PDF.\n",
    "\n",
    "**Homework is an opportunity to practice coding and to practice problem solving. Doing exercises is where you will do most of your learning.**\n",
    "\n",
    "**Copying someone else's solutions takes away your learning opportunities. It is also academic dishonesty.**"
   ]
  },
  {
   "cell_type": "markdown",
   "metadata": {},
   "source": [
    "## Reading\n",
    "\n",
    "- Think Python: Chapters 6 through 10\n",
    "\n",
    "**Reading is important!** Keep up with the reading. I recommend alternating between reading a chapter and then working on exercises.\n",
    "\n",
    "Additional recommended reading:\n",
    "\n",
    "- String methods documentation https://docs.python.org/3/library/stdtypes.html#string-methods"
   ]
  },
  {
   "cell_type": "markdown",
   "metadata": {},
   "source": [
    "## Textbook Chapter 5 Problems"
   ]
  },
  {
   "cell_type": "markdown",
   "metadata": {},
   "source": [
    "## Exercise 5.1"
   ]
  },
  {
   "cell_type": "code",
   "execution_count": 1,
   "metadata": {},
   "outputs": [],
   "source": [
    "import time"
   ]
  },
  {
   "cell_type": "code",
   "execution_count": 2,
   "metadata": {},
   "outputs": [
    {
     "data": {
      "text/plain": [
       "1618988802.7442102"
      ]
     },
     "execution_count": 2,
     "metadata": {},
     "output_type": "execute_result"
    }
   ],
   "source": [
    "time.time()\n"
   ]
  },
  {
   "cell_type": "markdown",
   "metadata": {},
   "source": [
    "Write a function `now()` that reads the current time and prints out the time of day in hours, minutes, and\n",
    "seconds, plus the number of days since the epoch. The function does not need to return a value, just print output to the screen.\n",
    "\n",
    "The result should look like:\n",
    "\n",
    "\"Current time is: 15:25:47. It has been 18370 days since the epoch.\"\n",
    "\n",
    "Use `int()` to drop decimal values. You do not need to try to find the date with years and months.\n",
    "\n",
    "Tip: build your function incrementally. Start by finding how many days have passed since the epoch. (check your answer at the bottom of the page: https://www.epochconverter.com/seconds-days-since-y0 )  From there find how many hours, etc. Keep in mind the hours will be UTC time."
   ]
  },
  {
   "cell_type": "code",
   "execution_count": 3,
   "metadata": {},
   "outputs": [],
   "source": [
    "def now():\n",
    "    the_time = time.time()\n",
    "    days =  int(the_time // (24 * 3600))\n",
    "    hours = int((the_time - days * 24 * 3600) // 3600)\n",
    "    mins =  int((the_time - days * 24 * 3600 - hours * 3600) // 60)\n",
    "    secs =  int((the_time - days * hours * 3600) % 60)\n",
    "    print(\"Current time is: \" + str(hours) + \":\" + str(mins) + \":\" + str(secs) + \". It has been \" + str(days) + \" days since the epoch.\")"
   ]
  },
  {
   "cell_type": "code",
   "execution_count": 4,
   "metadata": {},
   "outputs": [
    {
     "name": "stdout",
     "output_type": "stream",
     "text": [
      "Current time is: 7:6:42. It has been 18738 days since the epoch.\n"
     ]
    }
   ],
   "source": [
    "now()"
   ]
  },
  {
   "cell_type": "markdown",
   "metadata": {},
   "source": [
    "## Textbook Chapter 6 Problems"
   ]
  },
  {
   "cell_type": "markdown",
   "metadata": {},
   "source": [
    "## Exercise 6.2\n",
    "\n",
    "The Ackermann function, A(m, n), is deﬁned:\n",
    "\n",
    "$$\n",
    "A(m, n)= \\left \\{                 \n",
    "    \\begin{array}{ll}\n",
    "        n+1 & \\text{if } m = 0\\\\\n",
    "        A(m-1, 1) & \\text{if } m > 0 \\text{ and } n = 0\\\\\n",
    "        A(m-1, A(m, n-1)) & \\text{if } m > 0 \\text{ and } n > 0\\\\\n",
    "    \\end{array}\n",
    " \\right.\n",
    "$$\n",
    "\n",
    "\n",
    "See http://en.wikipedia.org/wiki/Ackermann_function . Write a function named `ack` that evaluates the Ackermann function. Use your function to evaluate a few test cases. Don't test with $m \\ge 4$ as it grows very fast very quickly."
   ]
  },
  {
   "cell_type": "code",
   "execution_count": 5,
   "metadata": {},
   "outputs": [],
   "source": [
    "def ack(m,n):\n",
    "    if m == 0:\n",
    "        return n + 1\n",
    "    else:\n",
    "        if n == 0:\n",
    "            return ack(m - 1, 1)\n",
    "        else:\n",
    "            return ack(m - 1, ack(m, n - 1))"
   ]
  },
  {
   "cell_type": "code",
   "execution_count": 6,
   "metadata": {},
   "outputs": [
    {
     "data": {
      "text/plain": [
       "61"
      ]
     },
     "execution_count": 6,
     "metadata": {},
     "output_type": "execute_result"
    }
   ],
   "source": [
    "# test case, should be 61\n",
    "ack(3, 3)"
   ]
  },
  {
   "cell_type": "code",
   "execution_count": 7,
   "metadata": {},
   "outputs": [
    {
     "data": {
      "text/plain": [
       "125"
      ]
     },
     "execution_count": 7,
     "metadata": {},
     "output_type": "execute_result"
    }
   ],
   "source": [
    "# test case, should be 125\n",
    "ack(3, 4)"
   ]
  },
  {
   "cell_type": "markdown",
   "metadata": {},
   "source": [
    "## Exercise 6.4\n",
    "\n",
    "A number, `a`, is a power of `b` if it is divisible by `b` and `a/b` is a power of `b`. Write a function called `is_power` that takes parameters `a` and `b` and returns `True` if a is a power of b. Note: you will have to think about the base case."
   ]
  },
  {
   "cell_type": "code",
   "execution_count": 8,
   "metadata": {},
   "outputs": [],
   "source": [
    "def is_power(a, b):\n",
    "    if b == 1:\n",
    "        return False\n",
    "    elif a == 1:\n",
    "        return True\n",
    "    else:\n",
    "        if a % b  == 0:\n",
    "            return is_power(a / b, b)\n",
    "        else:\n",
    "            return False\n",
    "        "
   ]
  },
  {
   "cell_type": "code",
   "execution_count": 9,
   "metadata": {},
   "outputs": [
    {
     "data": {
      "text/plain": [
       "True"
      ]
     },
     "execution_count": 9,
     "metadata": {},
     "output_type": "execute_result"
    }
   ],
   "source": [
    "is_power(1024, 2)"
   ]
  },
  {
   "cell_type": "code",
   "execution_count": 10,
   "metadata": {},
   "outputs": [
    {
     "data": {
      "text/plain": [
       "True"
      ]
     },
     "execution_count": 10,
     "metadata": {},
     "output_type": "execute_result"
    }
   ],
   "source": [
    "is_power(6561, 3)"
   ]
  },
  {
   "cell_type": "code",
   "execution_count": 11,
   "metadata": {},
   "outputs": [
    {
     "data": {
      "text/plain": [
       "False"
      ]
     },
     "execution_count": 11,
     "metadata": {},
     "output_type": "execute_result"
    }
   ],
   "source": [
    "is_power(4374, 3)"
   ]
  },
  {
   "cell_type": "code",
   "execution_count": 12,
   "metadata": {},
   "outputs": [
    {
     "data": {
      "text/plain": [
       "False"
      ]
     },
     "execution_count": 12,
     "metadata": {},
     "output_type": "execute_result"
    }
   ],
   "source": [
    "is_power(768, 2)"
   ]
  },
  {
   "cell_type": "markdown",
   "metadata": {},
   "source": [
    "## Exercise 6.5\n",
    "\n",
    "The greatest common divisor (GCD) of a and b is the largest number that divides both of them with no remainder.\n",
    "\n",
    "One way to ﬁnd the GCD of two numbers is based on the observation that if `r` is the remainder when `a` is divided by `b`, then `gcd(a, b) = gcd(b, r)`.\n",
    "\n",
    "As a base case, we can use `gcd(a, 0) = a`.\n",
    "\n",
    "Write a function called `gcd` that takes parameters `a` and `b` and returns their greatest common divisor."
   ]
  },
  {
   "cell_type": "code",
   "execution_count": 13,
   "metadata": {},
   "outputs": [],
   "source": [
    "def gcd(a, b):\n",
    "    if b == 0:\n",
    "        return a\n",
    "    else:\n",
    "        return gcd(b, a % b)"
   ]
  },
  {
   "cell_type": "code",
   "execution_count": 14,
   "metadata": {},
   "outputs": [
    {
     "data": {
      "text/plain": [
       "7"
      ]
     },
     "execution_count": 14,
     "metadata": {},
     "output_type": "execute_result"
    }
   ],
   "source": [
    "gcd(21, 7)"
   ]
  },
  {
   "cell_type": "code",
   "execution_count": 15,
   "metadata": {},
   "outputs": [
    {
     "data": {
      "text/plain": [
       "14"
      ]
     },
     "execution_count": 15,
     "metadata": {},
     "output_type": "execute_result"
    }
   ],
   "source": [
    "gcd(42, 28)"
   ]
  },
  {
   "cell_type": "code",
   "execution_count": 16,
   "metadata": {},
   "outputs": [
    {
     "data": {
      "text/plain": [
       "35"
      ]
     },
     "execution_count": 16,
     "metadata": {},
     "output_type": "execute_result"
    }
   ],
   "source": [
    "gcd(105, 140)"
   ]
  },
  {
   "cell_type": "markdown",
   "metadata": {},
   "source": [
    "## Textbook Chapter 7 Problems"
   ]
  },
  {
   "cell_type": "markdown",
   "metadata": {},
   "source": [
    "## Exercise 7.1\n",
    "\n",
    "Copy the loop from Section 7.5 on square roots and encapsulate it into a function called `mysqrt()` that takes `a` as a parameter. For a starting value `x` use `a/2`. It then iterates through the code to estimate the square root of a value.\n",
    "\n",
    "Write another function called `test_square_root(start, end)` that will print out a table as shown in the textbook."
   ]
  },
  {
   "cell_type": "code",
   "execution_count": 17,
   "metadata": {},
   "outputs": [],
   "source": [
    "# write your code here\n",
    "def mysqrt(a):\n",
    "    x = a / 2\n",
    "    while True:\n",
    "        y = (x + a/x) / 2\n",
    "        if abs(y-x) < 0.0000000001:\n",
    "            break\n",
    "        x = y\n",
    "    return x\n",
    "\n",
    "\n",
    "\n",
    "def test_square_root(start, end):\n",
    "    import math\n",
    "    print(\"a\\t mysqrt(a)\\t\\t\\tmath.sqrt(a)\\t\\t\\t diff\")\n",
    "    print(\"-\\t------------------\\t\\t\\t------------------\\t\\t\\t------------------\")\n",
    "    for i in range(int(start),int(end) + 1):\n",
    "        res_1 = mysqrt(i)\n",
    "        res_2 = math.sqrt(i)\n",
    "        print(str(i) + str(\"\\t\") + str(res_1) + str('\\t\\t\\t')+ str(res_2) + str('\\t\\t\\t') + str(abs(res_1 - res_2)))"
   ]
  },
  {
   "cell_type": "code",
   "execution_count": 18,
   "metadata": {
    "tags": [
     "raises-exception"
    ]
   },
   "outputs": [
    {
     "name": "stdout",
     "output_type": "stream",
     "text": [
      "a\t mysqrt(a)\t\t\tmath.sqrt(a)\t\t\t diff\n",
      "-\t------------------\t\t\t------------------\t\t\t------------------\n",
      "1\t1.000000000000001\t\t\t1.0\t\t\t1.1102230246251565e-15\n",
      "2\t1.4142135623746899\t\t\t1.4142135623730951\t\t\t1.5947243525715749e-12\n",
      "3\t1.7320508075688772\t\t\t1.7320508075688772\t\t\t0.0\n",
      "4\t2.0\t\t\t2.0\t\t\t0.0\n",
      "5\t2.23606797749979\t\t\t2.23606797749979\t\t\t0.0\n",
      "6\t2.4494897427831788\t\t\t2.449489742783178\t\t\t8.881784197001252e-16\n",
      "7\t2.6457513110646933\t\t\t2.6457513110645907\t\t\t1.0258460747536446e-13\n",
      "8\t2.8284271247493797\t\t\t2.8284271247461903\t\t\t3.1894487051431497e-12\n",
      "9\t3.0000000000393214\t\t\t3.0\t\t\t3.9321434996963944e-11\n"
     ]
    }
   ],
   "source": [
    "# test code, do not modify:\n",
    "test_square_root(1.0, 9.0)"
   ]
  },
  {
   "cell_type": "code",
   "execution_count": 19,
   "metadata": {
    "tags": [
     "raises-exception"
    ]
   },
   "outputs": [
    {
     "name": "stdout",
     "output_type": "stream",
     "text": [
      "a\t mysqrt(a)\t\t\tmath.sqrt(a)\t\t\t diff\n",
      "-\t------------------\t\t\t------------------\t\t\t------------------\n",
      "30\t5.477225575051661\t\t\t5.477225575051661\t\t\t0.0\n",
      "31\t5.567764362830022\t\t\t5.5677643628300215\t\t\t8.881784197001252e-16\n",
      "32\t5.65685424949238\t\t\t5.656854249492381\t\t\t8.881784197001252e-16\n",
      "33\t5.744562646538029\t\t\t5.744562646538029\t\t\t0.0\n",
      "34\t5.830951894845301\t\t\t5.830951894845301\t\t\t0.0\n",
      "35\t5.916079783099616\t\t\t5.916079783099616\t\t\t0.0\n"
     ]
    }
   ],
   "source": [
    "test_square_root(30, 35)"
   ]
  },
  {
   "cell_type": "markdown",
   "metadata": {},
   "source": [
    "## Textbook Chapter 9 Problems"
   ]
  },
  {
   "cell_type": "markdown",
   "metadata": {},
   "source": [
    "## Exercise 9.1\n",
    "\n",
    "Download this list of words: http://thinkpython2.com/code/words.txt\n",
    "\n",
    "Write and run a script that reads `words.txt` and prints out only the words with more than 20\n",
    "characters (after stripping whitespace)."
   ]
  },
  {
   "cell_type": "code",
   "execution_count": 20,
   "metadata": {},
   "outputs": [
    {
     "name": "stdout",
     "output_type": "stream",
     "text": [
      "The word with more than 20 characters:\n",
      "\n",
      "counterdemonstration\n",
      "\n",
      "counterdemonstrations\n",
      "\n",
      "counterdemonstrators\n",
      "\n",
      "hyperaggressivenesses\n",
      "\n",
      "hypersensitivenesses\n",
      "\n",
      "microminiaturization\n",
      "\n",
      "microminiaturizations\n",
      "\n",
      "representativenesses\n",
      "\n"
     ]
    }
   ],
   "source": [
    "fin = open(\"words.txt\")\n",
    "print(\"The word with more than 20 characters:\\n\")\n",
    "for line in fin:\n",
    "    if len(line) > 20:\n",
    "        print(line)"
   ]
  },
  {
   "cell_type": "markdown",
   "metadata": {},
   "source": [
    "## Exercise 9.2\n",
    "\n",
    "Write a function called `has_no_e` that returns True if the word doesn't have the letter e. You can use any of Pythons availble string methods."
   ]
  },
  {
   "cell_type": "code",
   "execution_count": 21,
   "metadata": {},
   "outputs": [],
   "source": [
    "def has_no_e(text):\n",
    "    return 'e' not in text"
   ]
  },
  {
   "cell_type": "code",
   "execution_count": 22,
   "metadata": {},
   "outputs": [
    {
     "data": {
      "text/plain": [
       "False"
      ]
     },
     "execution_count": 22,
     "metadata": {},
     "output_type": "execute_result"
    }
   ],
   "source": [
    "has_no_e(\"hello\")"
   ]
  },
  {
   "cell_type": "code",
   "execution_count": 23,
   "metadata": {},
   "outputs": [
    {
     "data": {
      "text/plain": [
       "True"
      ]
     },
     "execution_count": 23,
     "metadata": {},
     "output_type": "execute_result"
    }
   ],
   "source": [
    "has_no_e(\"quit\")"
   ]
  },
  {
   "cell_type": "markdown",
   "metadata": {},
   "source": [
    "With your function, write a script. The script should read the list of words (`words.txt`), print out the number of words that do not have the letter 'e' and the proportion of words that do not have the letter 'e'"
   ]
  },
  {
   "cell_type": "code",
   "execution_count": 24,
   "metadata": {},
   "outputs": [
    {
     "name": "stdout",
     "output_type": "stream",
     "text": [
      "The number of words that do not have the letter 'e' is: 37641\n",
      "The proportion of words that do not have the letter 'e' is: 33.07383423103621%\n"
     ]
    }
   ],
   "source": [
    "fin = open(\"words.txt\")\n",
    "num_words = 0\n",
    "num_no_e = 0\n",
    "for line in fin:\n",
    "    num_words = 1 + num_words\n",
    "    if has_no_e(line):\n",
    "        num_no_e = 1 + num_no_e\n",
    "print(\"The number of words that do not have the letter 'e' is: \" + str(num_no_e))\n",
    "print(\"The proportion of words that do not have the letter 'e' is: \" + str(num_no_e / num_words * 100) + \"%\")\n",
    "        \n",
    "    "
   ]
  },
  {
   "cell_type": "markdown",
   "metadata": {},
   "source": [
    "## Textbook Chapter 10 Problems"
   ]
  },
  {
   "cell_type": "markdown",
   "metadata": {},
   "source": [
    "## Exercise 10.1\n",
    "\n",
    "Write a function called `nested_sum` that takes a list of lists of integers and adds up\n",
    "the elements from all of the nested lists. For example:\n",
    "```\n",
    "t = [[1, 2], [3], [4, 5, 6]]\n",
    "nested_sum(t)\n",
    "21\n",
    "```\n",
    "You may want to build the function recursively in case there are many levels of nested lists.\n",
    "\n",
    "You can assume that all elements in any of the nested lists are numeric."
   ]
  },
  {
   "cell_type": "code",
   "execution_count": 25,
   "metadata": {},
   "outputs": [],
   "source": [
    "def nested_sum(t):\n",
    "    sum = 0\n",
    "    for element in t:\n",
    "        if type(element) == list:\n",
    "            sum = sum + nested_sum(element) \n",
    "        else:\n",
    "            sum = sum + element\n",
    "    return sum\n",
    "            "
   ]
  },
  {
   "cell_type": "code",
   "execution_count": 26,
   "metadata": {},
   "outputs": [
    {
     "data": {
      "text/plain": [
       "3"
      ]
     },
     "execution_count": 26,
     "metadata": {},
     "output_type": "execute_result"
    }
   ],
   "source": [
    "t = [1, 2]\n",
    "nested_sum(t)"
   ]
  },
  {
   "cell_type": "code",
   "execution_count": 27,
   "metadata": {},
   "outputs": [
    {
     "data": {
      "text/plain": [
       "21"
      ]
     },
     "execution_count": 27,
     "metadata": {},
     "output_type": "execute_result"
    }
   ],
   "source": [
    "t = [[1, 2], [3], [4, 5, 6]]\n",
    "nested_sum(t)"
   ]
  },
  {
   "cell_type": "code",
   "execution_count": 28,
   "metadata": {},
   "outputs": [
    {
     "data": {
      "text/plain": [
       "36"
      ]
     },
     "execution_count": 28,
     "metadata": {},
     "output_type": "execute_result"
    }
   ],
   "source": [
    "x = [[1, 2, [3]], 4, 5, 6, [7], 8]\n",
    "nested_sum(x)"
   ]
  },
  {
   "cell_type": "code",
   "execution_count": 29,
   "metadata": {},
   "outputs": [
    {
     "data": {
      "text/plain": [
       "36"
      ]
     },
     "execution_count": 29,
     "metadata": {},
     "output_type": "execute_result"
    }
   ],
   "source": [
    "t = [[[1, 2, [3]], [4, [5, 6, [7]], 8]]]\n",
    "nested_sum(t)"
   ]
  },
  {
   "cell_type": "markdown",
   "metadata": {},
   "source": [
    "## Exercise 10.2\n",
    "\n",
    "Write a function called `cumsum` that takes a list of numbers and returns the cumulative sum; that is, a new list where the ith element is the sum of the first i + 1 elements from the original list. \n",
    "\n",
    "For example:\n",
    "```\n",
    "t = [1, 2, 3]\n",
    "cumsum(t)\n",
    "[1, 3, 6]\n",
    "```\n",
    "\n",
    "You can assume that all elements in the lists are numeric and the list does not contain nested lists."
   ]
  },
  {
   "cell_type": "code",
   "execution_count": 30,
   "metadata": {},
   "outputs": [],
   "source": [
    "def cumsum(t):\n",
    "    new_list = []\n",
    "    for i in range(len(t)):\n",
    "        new_list.append(sum(t[0:i+1]))\n",
    "    return new_list"
   ]
  },
  {
   "cell_type": "code",
   "execution_count": 31,
   "metadata": {},
   "outputs": [
    {
     "data": {
      "text/plain": [
       "[1, 3, 6, 10]"
      ]
     },
     "execution_count": 31,
     "metadata": {},
     "output_type": "execute_result"
    }
   ],
   "source": [
    "cumsum([1, 2, 3, 4])"
   ]
  },
  {
   "cell_type": "code",
   "execution_count": 32,
   "metadata": {},
   "outputs": [
    {
     "data": {
      "text/plain": [
       "[0, 1, 3, 6, 10, 15, 21, 28, 36, 45, 55, 66]"
      ]
     },
     "execution_count": 32,
     "metadata": {},
     "output_type": "execute_result"
    }
   ],
   "source": [
    "cumsum(range(12))"
   ]
  },
  {
   "cell_type": "markdown",
   "metadata": {},
   "source": [
    "## Exercise 10.6\n",
    "\n",
    "Two words are anagrams if you can rearrange the letters from one to spell the other. Write a function called `is_anagram` that takes two strings and returns `True` if they are anagrams.\n",
    "\n",
    "You can remove spaces and convert to lowercase using `string.replace(\" \",\"\").lower()`"
   ]
  },
  {
   "cell_type": "code",
   "execution_count": 33,
   "metadata": {},
   "outputs": [],
   "source": [
    "def is_anagram(word1, word2):\n",
    "    if len(word1.replace(\" \",\"\").lower()) != len(word2.replace(\" \",\"\").lower()):\n",
    "        return False\n",
    "    else:\n",
    "        if list(word1).sort() == list(word2).sort():\n",
    "            return True\n",
    "        else:\n",
    "            return False\n",
    "        "
   ]
  },
  {
   "cell_type": "code",
   "execution_count": 34,
   "metadata": {},
   "outputs": [
    {
     "data": {
      "text/plain": [
       "True"
      ]
     },
     "execution_count": 34,
     "metadata": {},
     "output_type": "execute_result"
    }
   ],
   "source": [
    "is_anagram(\"hello\", \"o hell\")"
   ]
  },
  {
   "cell_type": "code",
   "execution_count": 35,
   "metadata": {},
   "outputs": [
    {
     "data": {
      "text/plain": [
       "True"
      ]
     },
     "execution_count": 35,
     "metadata": {},
     "output_type": "execute_result"
    }
   ],
   "source": [
    "is_anagram(\"dormitory\" , \"dirty room\")"
   ]
  },
  {
   "cell_type": "code",
   "execution_count": 36,
   "metadata": {},
   "outputs": [
    {
     "data": {
      "text/plain": [
       "False"
      ]
     },
     "execution_count": 36,
     "metadata": {},
     "output_type": "execute_result"
    }
   ],
   "source": [
    "is_anagram(\"dormitory\" , \"dirty rooms\")"
   ]
  },
  {
   "cell_type": "code",
   "execution_count": 37,
   "metadata": {},
   "outputs": [
    {
     "data": {
      "text/plain": [
       "True"
      ]
     },
     "execution_count": 37,
     "metadata": {},
     "output_type": "execute_result"
    }
   ],
   "source": [
    "is_anagram(\"astronomers\" , \"moon starers\")"
   ]
  },
  {
   "cell_type": "markdown",
   "metadata": {},
   "source": [
    "## Exercise 10.7\n",
    "\n",
    "Write a function called `has_duplicates` that takes a list and returns `True` if there is any element that appears more than once. It should not modify the original list.\n",
    "\n",
    "You can assume that the list will not have nested lists."
   ]
  },
  {
   "cell_type": "code",
   "execution_count": 38,
   "metadata": {},
   "outputs": [],
   "source": [
    "def has_duplicates(t):\n",
    "    import numpy as np\n",
    "    if len(np.unique(t)) != len(t):\n",
    "        return True\n",
    "    else:\n",
    "        return False"
   ]
  },
  {
   "cell_type": "code",
   "execution_count": 39,
   "metadata": {},
   "outputs": [
    {
     "data": {
      "text/plain": [
       "False"
      ]
     },
     "execution_count": 39,
     "metadata": {},
     "output_type": "execute_result"
    }
   ],
   "source": [
    "has_duplicates(['a','b','c'])"
   ]
  },
  {
   "cell_type": "code",
   "execution_count": 40,
   "metadata": {},
   "outputs": [
    {
     "data": {
      "text/plain": [
       "True"
      ]
     },
     "execution_count": 40,
     "metadata": {},
     "output_type": "execute_result"
    }
   ],
   "source": [
    "has_duplicates(['a','b','b','c'])"
   ]
  },
  {
   "cell_type": "code",
   "execution_count": 41,
   "metadata": {},
   "outputs": [
    {
     "data": {
      "text/plain": [
       "True"
      ]
     },
     "execution_count": 41,
     "metadata": {},
     "output_type": "execute_result"
    }
   ],
   "source": [
    "has_duplicates(['a','b','c','a'])"
   ]
  },
  {
   "cell_type": "markdown",
   "metadata": {},
   "source": [
    "## Exercise 10.10\n",
    "\n",
    "To check whether a word is in the word list, you could use the in operator, but it would be slow because it searches through the words in order.\n",
    "\n",
    "Because the words are in alphabetical order, we can speed things up with a bisection search (also known as binary search). You start in the middle and check to see whether the word you are looking for comes before the word in the middle of the list. If so, you search the first half of the list the same way (perform a bisection search on the first half). Otherwise you search the second half.\n",
    "\n",
    "Either way, you cut the remaining search space in half. If the word list has 113,809 words, it will\n",
    "take about 17 steps to find the word or conclude that it's not there. \n",
    "\n",
    "Write a function called `in_bisect` that takes a sorted list and a target word and will returns `True` if the word is in the list and `False` if it's not.\n",
    "\n",
    "Hint: it's a recursive function."
   ]
  },
  {
   "cell_type": "code",
   "execution_count": 42,
   "metadata": {},
   "outputs": [],
   "source": [
    "# Use this function. No need to rewrite it.\n",
    "def make_word_list():\n",
    "    \"\"\"Reads lines from a file and builds a list.\"\"\"\n",
    "    t = []\n",
    "    fin = open('words.txt')\n",
    "    for line in fin:\n",
    "        word = line.strip()\n",
    "        t.append(word)\n",
    "    return t\n",
    "\n",
    "t = make_word_list()"
   ]
  },
  {
   "cell_type": "code",
   "execution_count": 43,
   "metadata": {},
   "outputs": [],
   "source": [
    "# define this function\n",
    "def in_bisect(word_list, word):\n",
    "    list_mid = int(len(word_list) / 2)\n",
    "    if word == word_list[list_mid]:\n",
    "        return True\n",
    "    else:\n",
    "        if list_mid == 0:\n",
    "            return False\n",
    "        elif word < word_list[list_mid]:\n",
    "            return in_bisect(word_list[:list_mid], word)\n",
    "        else:\n",
    "            return in_bisect(word_list[list_mid:], word)\n",
    "\n",
    "        \n",
    "        "
   ]
  },
  {
   "cell_type": "code",
   "execution_count": 44,
   "metadata": {},
   "outputs": [
    {
     "data": {
      "text/plain": [
       "True"
      ]
     },
     "execution_count": 44,
     "metadata": {},
     "output_type": "execute_result"
    }
   ],
   "source": [
    "in_bisect(t, \"hello\")"
   ]
  },
  {
   "cell_type": "code",
   "execution_count": 45,
   "metadata": {},
   "outputs": [
    {
     "data": {
      "text/plain": [
       "False"
      ]
     },
     "execution_count": 45,
     "metadata": {},
     "output_type": "execute_result"
    }
   ],
   "source": [
    "in_bisect(t, \"xyz\")"
   ]
  },
  {
   "cell_type": "markdown",
   "metadata": {},
   "source": [
    "## Exercise 10.11\n",
    "\n",
    "Two words are a \"reverse pair\" if each is the reverse of the other.\n",
    "\n",
    "Now that you have the `in_bisect` search, write a script that ﬁnds all the reverse pairs in the word list that are 6 letters or longer. (It takes a little bit of time to run.)"
   ]
  },
  {
   "cell_type": "code",
   "execution_count": 46,
   "metadata": {},
   "outputs": [
    {
     "name": "stdout",
     "output_type": "stream",
     "text": [
      "WORD\tREVERSE WORD\n",
      "agenes\tsenega\n",
      "animal\tlamina\n",
      "animes\tsemina\n",
      "degami\timaged\n",
      "deified\tdeified\n",
      "deifier\treified\n",
      "deliver\treviled\n",
      "denier\treined\n",
      "denies\tseined\n",
      "denned\tdenned\n",
      "depots\tstoped\n",
      "derats\tstared\n",
      "dessert\ttressed\n",
      "desserts\tstressed\n",
      "dewans\tsnawed\n",
      "dialer\trelaid\n",
      "diaper\trepaid\n",
      "dormin\tnimrod\n",
      "drawer\treward\n",
      "elides\tsedile\n",
      "eviler\trelive\n",
      "gelder\tredleg\n",
      "halalah\thalalah\n",
      "hallah\thallah\n",
      "imaged\tdegami\n",
      "lamina\tanimal\n",
      "levins\tsnivel\n",
      "looter\tretool\n",
      "marram\tmarram\n",
      "nimrod\tdormin\n",
      "pupils\tslipup\n",
      "recaps\tspacer\n",
      "redder\tredder\n",
      "redips\tspider\n",
      "redleg\tgelder\n",
      "redraw\twarder\n",
      "redrawer\trewarder\n",
      "reflet\ttelfer\n",
      "reflow\twolfer\n",
      "reified\tdeifier\n",
      "reifier\treifier\n",
      "reined\tdenier\n",
      "reknit\ttinker\n",
      "reknits\tstinker\n",
      "relaid\tdialer\n",
      "relive\teviler\n",
      "remeet\tteemer\n",
      "rennet\ttenner\n",
      "repaid\tdiaper\n",
      "repaper\trepaper\n",
      "repins\tsniper\n",
      "retool\tlooter\n",
      "reviled\tdeliver\n",
      "reviver\treviver\n",
      "reward\tdrawer\n",
      "rewarder\tredrawer\n",
      "rotator\trotator\n",
      "sallets\tstellas\n",
      "scares\tseracs\n",
      "secret\tterces\n",
      "sedile\telides\n",
      "seined\tdenies\n",
      "selahs\tshales\n",
      "selles\tselles\n",
      "sememes\tsememes\n",
      "semina\tanimes\n",
      "senega\tagenes\n",
      "seracs\tscares\n",
      "shales\tselahs\n",
      "skeets\tsteeks\n",
      "sleeps\tspeels\n",
      "sleets\tsteels\n",
      "slipup\tpupils\n",
      "sloops\tspools\n",
      "snawed\tdewans\n",
      "sniper\trepins\n",
      "snivel\tlevins\n",
      "snoops\tspoons\n",
      "spacer\trecaps\n",
      "speels\tsleeps\n",
      "spider\tredips\n",
      "spirts\tstrips\n",
      "spools\tsloops\n",
      "spoons\tsnoops\n",
      "sports\tstrops\n",
      "sprits\tstirps\n",
      "stared\tderats\n",
      "steeks\tskeets\n",
      "steels\tsleets\n",
      "stellas\tsallets\n",
      "stinker\treknits\n",
      "stirps\tsprits\n",
      "stoped\tdepots\n",
      "stressed\tdesserts\n",
      "strips\tspirts\n",
      "strops\tsports\n",
      "struts\tsturts\n",
      "sturts\tstruts\n",
      "teemer\tremeet\n",
      "telfer\treflet\n",
      "tenner\trennet\n",
      "terces\tsecret\n",
      "terret\tterret\n",
      "tinker\treknit\n",
      "tressed\tdessert\n",
      "warder\tredraw\n",
      "wolfer\treflow\n",
      "Abovt is all reverse pair from word list\n"
     ]
    }
   ],
   "source": [
    "print(\"WORD\\tREVERSE WORD\")\n",
    "for word in t:\n",
    "    reverse_word = ''\n",
    "    if len(word) >= 6:\n",
    "        n = len(word)\n",
    "        for i in range(n):\n",
    "            reverse_word = reverse_word + word[-1 - i]\n",
    "        if  in_bisect(t, reverse_word):\n",
    "            print(word + \"\\t\" + reverse_word)\n",
    "print(\"Abovt is all reverse pair from word list\")"
   ]
  }
 ],
 "metadata": {
  "kernelspec": {
   "display_name": "Python 3",
   "language": "python",
   "name": "python3"
  },
  "language_info": {
   "codemirror_mode": {
    "name": "ipython",
    "version": 3
   },
   "file_extension": ".py",
   "mimetype": "text/x-python",
   "name": "python",
   "nbconvert_exporter": "python",
   "pygments_lexer": "ipython3",
   "version": "3.8.5"
  }
 },
 "nbformat": 4,
 "nbformat_minor": 4
}
